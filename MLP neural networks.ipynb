{
 "cells": [
  {
   "cell_type": "code",
   "execution_count": 2,
   "metadata": {},
   "outputs": [
    {
     "data": {
      "text/html": [
       "<div>\n",
       "<style>\n",
       "    .dataframe thead tr:only-child th {\n",
       "        text-align: right;\n",
       "    }\n",
       "\n",
       "    .dataframe thead th {\n",
       "        text-align: left;\n",
       "    }\n",
       "\n",
       "    .dataframe tbody tr th {\n",
       "        vertical-align: top;\n",
       "    }\n",
       "</style>\n",
       "<table border=\"1\" class=\"dataframe\">\n",
       "  <thead>\n",
       "    <tr style=\"text-align: right;\">\n",
       "      <th></th>\n",
       "      <th>fixed.acidity</th>\n",
       "      <th>volatile.acidity</th>\n",
       "      <th>citric.acid</th>\n",
       "      <th>residual.sugar</th>\n",
       "      <th>chlorides</th>\n",
       "      <th>free.sulfur.dioxide</th>\n",
       "      <th>total.sulfur.dioxide</th>\n",
       "      <th>density</th>\n",
       "      <th>pH</th>\n",
       "      <th>sulphates</th>\n",
       "      <th>alcohol</th>\n",
       "      <th>quality</th>\n",
       "    </tr>\n",
       "  </thead>\n",
       "  <tbody>\n",
       "    <tr>\n",
       "      <th>0</th>\n",
       "      <td>7.0</td>\n",
       "      <td>0.27</td>\n",
       "      <td>0.36</td>\n",
       "      <td>20.7</td>\n",
       "      <td>0.045</td>\n",
       "      <td>45.0</td>\n",
       "      <td>170.0</td>\n",
       "      <td>1.0010</td>\n",
       "      <td>3.00</td>\n",
       "      <td>0.45</td>\n",
       "      <td>8.8</td>\n",
       "      <td>6</td>\n",
       "    </tr>\n",
       "    <tr>\n",
       "      <th>1</th>\n",
       "      <td>6.3</td>\n",
       "      <td>0.30</td>\n",
       "      <td>0.34</td>\n",
       "      <td>1.6</td>\n",
       "      <td>0.049</td>\n",
       "      <td>14.0</td>\n",
       "      <td>132.0</td>\n",
       "      <td>0.9940</td>\n",
       "      <td>3.30</td>\n",
       "      <td>0.49</td>\n",
       "      <td>9.5</td>\n",
       "      <td>6</td>\n",
       "    </tr>\n",
       "    <tr>\n",
       "      <th>2</th>\n",
       "      <td>8.1</td>\n",
       "      <td>0.28</td>\n",
       "      <td>0.40</td>\n",
       "      <td>6.9</td>\n",
       "      <td>0.050</td>\n",
       "      <td>30.0</td>\n",
       "      <td>97.0</td>\n",
       "      <td>0.9951</td>\n",
       "      <td>3.26</td>\n",
       "      <td>0.44</td>\n",
       "      <td>10.1</td>\n",
       "      <td>6</td>\n",
       "    </tr>\n",
       "    <tr>\n",
       "      <th>3</th>\n",
       "      <td>7.2</td>\n",
       "      <td>0.23</td>\n",
       "      <td>0.32</td>\n",
       "      <td>8.5</td>\n",
       "      <td>0.058</td>\n",
       "      <td>47.0</td>\n",
       "      <td>186.0</td>\n",
       "      <td>0.9956</td>\n",
       "      <td>3.19</td>\n",
       "      <td>0.40</td>\n",
       "      <td>9.9</td>\n",
       "      <td>6</td>\n",
       "    </tr>\n",
       "    <tr>\n",
       "      <th>4</th>\n",
       "      <td>7.2</td>\n",
       "      <td>0.23</td>\n",
       "      <td>0.32</td>\n",
       "      <td>8.5</td>\n",
       "      <td>0.058</td>\n",
       "      <td>47.0</td>\n",
       "      <td>186.0</td>\n",
       "      <td>0.9956</td>\n",
       "      <td>3.19</td>\n",
       "      <td>0.40</td>\n",
       "      <td>9.9</td>\n",
       "      <td>6</td>\n",
       "    </tr>\n",
       "  </tbody>\n",
       "</table>\n",
       "</div>"
      ],
      "text/plain": [
       "   fixed.acidity  volatile.acidity  citric.acid  residual.sugar  chlorides  \\\n",
       "0            7.0              0.27         0.36            20.7      0.045   \n",
       "1            6.3              0.30         0.34             1.6      0.049   \n",
       "2            8.1              0.28         0.40             6.9      0.050   \n",
       "3            7.2              0.23         0.32             8.5      0.058   \n",
       "4            7.2              0.23         0.32             8.5      0.058   \n",
       "\n",
       "   free.sulfur.dioxide  total.sulfur.dioxide  density    pH  sulphates  \\\n",
       "0                 45.0                 170.0   1.0010  3.00       0.45   \n",
       "1                 14.0                 132.0   0.9940  3.30       0.49   \n",
       "2                 30.0                  97.0   0.9951  3.26       0.44   \n",
       "3                 47.0                 186.0   0.9956  3.19       0.40   \n",
       "4                 47.0                 186.0   0.9956  3.19       0.40   \n",
       "\n",
       "   alcohol  quality  \n",
       "0      8.8        6  \n",
       "1      9.5        6  \n",
       "2     10.1        6  \n",
       "3      9.9        6  \n",
       "4      9.9        6  "
      ]
     },
     "execution_count": 2,
     "metadata": {},
     "output_type": "execute_result"
    }
   ],
   "source": [
    "import pandas as pd\n",
    "import seaborn \n",
    "import numpy as np\n",
    "pd.set_option('display.max_columns', None)\n",
    "import sys\n",
    "import matplotlib.pyplot as plt\n",
    "\n",
    "df = pd.read_csv(\"C:/Users/16703/Desktop/master_degree2/machine_learning/lab/LAB3/wineQualityWhites.csv\")\n",
    "df.head()"
   ]
  },
  {
   "cell_type": "code",
   "execution_count": 3,
   "metadata": {},
   "outputs": [
    {
     "data": {
      "text/html": [
       "<div>\n",
       "<style>\n",
       "    .dataframe thead tr:only-child th {\n",
       "        text-align: right;\n",
       "    }\n",
       "\n",
       "    .dataframe thead th {\n",
       "        text-align: left;\n",
       "    }\n",
       "\n",
       "    .dataframe tbody tr th {\n",
       "        vertical-align: top;\n",
       "    }\n",
       "</style>\n",
       "<table border=\"1\" class=\"dataframe\">\n",
       "  <thead>\n",
       "    <tr style=\"text-align: right;\">\n",
       "      <th></th>\n",
       "      <th>fixed.acidity</th>\n",
       "      <th>volatile.acidity</th>\n",
       "      <th>citric.acid</th>\n",
       "      <th>residual.sugar</th>\n",
       "      <th>chlorides</th>\n",
       "      <th>free.sulfur.dioxide</th>\n",
       "      <th>total.sulfur.dioxide</th>\n",
       "      <th>density</th>\n",
       "      <th>pH</th>\n",
       "      <th>sulphates</th>\n",
       "      <th>alcohol</th>\n",
       "      <th>quality</th>\n",
       "    </tr>\n",
       "  </thead>\n",
       "  <tbody>\n",
       "    <tr>\n",
       "      <th>0</th>\n",
       "      <td>7.0</td>\n",
       "      <td>0.27</td>\n",
       "      <td>0.36</td>\n",
       "      <td>20.7</td>\n",
       "      <td>0.045</td>\n",
       "      <td>45.0</td>\n",
       "      <td>170.0</td>\n",
       "      <td>1.0010</td>\n",
       "      <td>3.00</td>\n",
       "      <td>0.45</td>\n",
       "      <td>8.8</td>\n",
       "      <td>1</td>\n",
       "    </tr>\n",
       "    <tr>\n",
       "      <th>1</th>\n",
       "      <td>6.3</td>\n",
       "      <td>0.30</td>\n",
       "      <td>0.34</td>\n",
       "      <td>1.6</td>\n",
       "      <td>0.049</td>\n",
       "      <td>14.0</td>\n",
       "      <td>132.0</td>\n",
       "      <td>0.9940</td>\n",
       "      <td>3.30</td>\n",
       "      <td>0.49</td>\n",
       "      <td>9.5</td>\n",
       "      <td>1</td>\n",
       "    </tr>\n",
       "    <tr>\n",
       "      <th>2</th>\n",
       "      <td>8.1</td>\n",
       "      <td>0.28</td>\n",
       "      <td>0.40</td>\n",
       "      <td>6.9</td>\n",
       "      <td>0.050</td>\n",
       "      <td>30.0</td>\n",
       "      <td>97.0</td>\n",
       "      <td>0.9951</td>\n",
       "      <td>3.26</td>\n",
       "      <td>0.44</td>\n",
       "      <td>10.1</td>\n",
       "      <td>1</td>\n",
       "    </tr>\n",
       "    <tr>\n",
       "      <th>3</th>\n",
       "      <td>7.2</td>\n",
       "      <td>0.23</td>\n",
       "      <td>0.32</td>\n",
       "      <td>8.5</td>\n",
       "      <td>0.058</td>\n",
       "      <td>47.0</td>\n",
       "      <td>186.0</td>\n",
       "      <td>0.9956</td>\n",
       "      <td>3.19</td>\n",
       "      <td>0.40</td>\n",
       "      <td>9.9</td>\n",
       "      <td>1</td>\n",
       "    </tr>\n",
       "    <tr>\n",
       "      <th>4</th>\n",
       "      <td>7.2</td>\n",
       "      <td>0.23</td>\n",
       "      <td>0.32</td>\n",
       "      <td>8.5</td>\n",
       "      <td>0.058</td>\n",
       "      <td>47.0</td>\n",
       "      <td>186.0</td>\n",
       "      <td>0.9956</td>\n",
       "      <td>3.19</td>\n",
       "      <td>0.40</td>\n",
       "      <td>9.9</td>\n",
       "      <td>1</td>\n",
       "    </tr>\n",
       "  </tbody>\n",
       "</table>\n",
       "</div>"
      ],
      "text/plain": [
       "   fixed.acidity  volatile.acidity  citric.acid  residual.sugar  chlorides  \\\n",
       "0            7.0              0.27         0.36            20.7      0.045   \n",
       "1            6.3              0.30         0.34             1.6      0.049   \n",
       "2            8.1              0.28         0.40             6.9      0.050   \n",
       "3            7.2              0.23         0.32             8.5      0.058   \n",
       "4            7.2              0.23         0.32             8.5      0.058   \n",
       "\n",
       "   free.sulfur.dioxide  total.sulfur.dioxide  density    pH  sulphates  \\\n",
       "0                 45.0                 170.0   1.0010  3.00       0.45   \n",
       "1                 14.0                 132.0   0.9940  3.30       0.49   \n",
       "2                 30.0                  97.0   0.9951  3.26       0.44   \n",
       "3                 47.0                 186.0   0.9956  3.19       0.40   \n",
       "4                 47.0                 186.0   0.9956  3.19       0.40   \n",
       "\n",
       "   alcohol quality  \n",
       "0      8.8       1  \n",
       "1      9.5       1  \n",
       "2     10.1       1  \n",
       "3      9.9       1  \n",
       "4      9.9       1  "
      ]
     },
     "execution_count": 3,
     "metadata": {},
     "output_type": "execute_result"
    }
   ],
   "source": [
    "df[['quality']]=pd.cut(df.quality,[2,5,6,10],2, labels=['0','1','2'])\n",
    "df.head()"
   ]
  },
  {
   "cell_type": "code",
   "execution_count": 4,
   "metadata": {},
   "outputs": [],
   "source": [
    "df[\"quality\"] = df[\"quality\"].cat.codes"
   ]
  },
  {
   "cell_type": "code",
   "execution_count": 5,
   "metadata": {},
   "outputs": [
    {
     "name": "stdout",
     "output_type": "stream",
     "text": [
      "Shape of X: (4898, 11)\n",
      "Shape of y: (4898,)\n"
     ]
    }
   ],
   "source": [
    "X = df[[col for col in df.columns if col not in ['quality']]].values\n",
    "y = df['quality'].values\n",
    "print(\"Shape of X: {}\".format(X.shape))\n",
    "print(\"Shape of y: {}\".format(y.shape))"
   ]
  },
  {
   "cell_type": "code",
   "execution_count": 6,
   "metadata": {},
   "outputs": [
    {
     "name": "stdout",
     "output_type": "stream",
     "text": [
      "Shape of X: (4898, 11)\n"
     ]
    }
   ],
   "source": [
    "from sklearn.preprocessing import StandardScaler\n",
    "sc = StandardScaler()\n",
    "X = sc.fit_transform(X)\n",
    "print(\"Shape of X: {}\".format(X.shape))"
   ]
  },
  {
   "cell_type": "code",
   "execution_count": 7,
   "metadata": {},
   "outputs": [
    {
     "name": "stdout",
     "output_type": "stream",
     "text": [
      "Size of X_train: (3918, 11)\n",
      "Size of X_test: (980, 11)\n",
      "Size of y_train: (3918,)\n",
      "Size of y_test: (980,)\n",
      "\n",
      "\n",
      "0.88157223073\n",
      "0.881632653061\n"
     ]
    }
   ],
   "source": [
    "from sklearn.model_selection import train_test_split\n",
    "X_train, X_test, y_train, y_test = train_test_split(X, y, test_size = 0.2, stratify=y,random_state=0)\n",
    "print(\"Size of X_train: {}\".format(X_train.shape))\n",
    "print(\"Size of X_test: {}\".format(X_test.shape))\n",
    "print(\"Size of y_train: {}\".format(y_train.shape))\n",
    "print(\"Size of y_test: {}\".format(y_test.shape))\n",
    "print('\\n')\n",
    "\n",
    "# make sure it's stratified split\n",
    "print(y_train.sum()/y_train.size)\n",
    "print(y_test.sum()/y_test.size)"
   ]
  },
  {
   "cell_type": "code",
   "execution_count": null,
   "metadata": {},
   "outputs": [],
   "source": []
  },
  {
   "cell_type": "markdown",
   "metadata": {},
   "source": [
    "# Multi-Layer Perceptron\n"
   ]
  },
  {
   "cell_type": "markdown",
   "metadata": {},
   "source": [
    "# "
   ]
  },
  {
   "cell_type": "code",
   "execution_count": 25,
   "metadata": {},
   "outputs": [],
   "source": [
    "from scipy.special import expit\n",
    "\n",
    "class MultiLayerPerceptron:\n",
    "\n",
    "    \n",
    "    def __init__(self, n_hidden=1, size_hidden=10, C=0, epochs=300, \n",
    "                 alpha=0.001, phi='linear', cost='cross-entropy'):\n",
    "        self.n_hidden = n_hidden\n",
    "        self.n_layers = self.n_hidden + 1 \n",
    "        # making two redundant parameters is annoying but makes bookkeeping way easier\n",
    "        \n",
    "        self.size_hidden = size_hidden\n",
    "        self.C = C\n",
    "        self.epochs = epochs\n",
    "        self.alpha = alpha\n",
    "        \n",
    "        if phi in ['sigmoid', 'linear']:\n",
    "            self.phi = phi\n",
    "        else:\n",
    "            raise ValueError('Not useful value')\n",
    "        \n",
    "        if cost in ['cross-entropy', 'mse']:\n",
    "            self.cost = cost     \n",
    "        else:\n",
    "            raise ValueError('Not a valid option for attribute \\'cost.\\'')\n",
    "\n",
    "            \n",
    "            \n",
    "    def _activation(self, z):\n",
    "        if self.phi == 'sigmoid':\n",
    "            return expit(z)\n",
    "        elif self.phi == 'linear':\n",
    "            return z\n",
    "        else:\n",
    "            raise ValueError('This phi function has not yet been implemented.')\n",
    "\n",
    "            \n",
    "            \n",
    "    @staticmethod\n",
    "    def _encode_labels(y):\n",
    "        return pd.get_dummies(y).values.T\n",
    "\n",
    "    \n",
    "    \n",
    "    @staticmethod\n",
    "    def _add_bias(X, how='column'):\n",
    "        if how == 'column':\n",
    "            return np.hstack([np.ones((X.shape[0], 1)), X])\n",
    "        elif how == 'row':\n",
    "            return np.vstack([np.ones((1, X.shape[1])), X])\n",
    "        else:\n",
    "            raise ValueError('Invalid value for parameter \\'how\\'')\n",
    "\n",
    "            \n",
    "            \n",
    "    def _forward_grad(self, A):\n",
    "        if self.phi == 'sigmoid':\n",
    "            return A * (1 - A)\n",
    "        elif self.phi == 'linear':\n",
    "            return np.ones(A.shape)\n",
    "        else:\n",
    "            raise ValueError('choose a method from sigmoid or linear')\n",
    "\n",
    "            \n",
    "            \n",
    "    def _cost_grad(self, A, Y):\n",
    "        if self.cost == 'mse':\n",
    "            return -2 * (Y - A) * (1 - A)\n",
    "        elif self.cost == 'cross-entropy':\n",
    "            return (A - Y)\n",
    "        else:\n",
    "            raise NotImplementedError('This cost gradient has not yet been implemented')\n",
    "\n",
    "            \n",
    "            \n",
    "    def _get_gradient(self, results, outputs, Y):\n",
    "        sensitivity = self.network_.copy()\n",
    "\n",
    "        sensitivity[-1] = self._cost_grad(results[-1], Y)\n",
    "        \n",
    "        self.grads_[-1] = sensitivity[-1] @ results[-2].T\n",
    "        self.grads_[-1] += self.network_[-1] * self.C\n",
    "        \n",
    "        for i in range(-2, -self.n_layers, -1):\n",
    "            if i == -2:\n",
    "                sensitivity[i] = (self._forward_grad(results[i]) * \n",
    "                                  (self.network_[i+1].T @ sensitivity[i+1]))\n",
    "            else:\n",
    "                sensitivity[i] = (self._forward_grad(results[i]) * \n",
    "                                  (self.network_[i+1].T @ sensitivity[i+1][1:,:]))\n",
    "                \n",
    "            self.grads_[i] = sensitivity[i][1:,:] @ results[i-1].T\n",
    "            self.grads_[i][:,1:] += self.network_[i][:,1:] * self.C\n",
    "            \n",
    "        for i in range(self.n_layers):\n",
    "            if np.any(np.isnan(self.network_[i])):\n",
    "                raise OverflowError('One or more of the training gradients blew up.')\n",
    "\n",
    "            \n",
    "            \n",
    "    def _feedforward(self, X):\n",
    "        result = []\n",
    "        outputs = []\n",
    "        \n",
    "        A = self._add_bias(X, how='column').T\n",
    "        result.append(A)\n",
    "        for i in range(self.n_layers - 1):\n",
    "            Z = self.network_[i] @ A\n",
    "            A = self._add_bias(self._activation(Z), how='row')\n",
    "            outputs.append(Z)\n",
    "            result.append(A)\n",
    "        Z = self.network_[self.n_layers - 1] @ A\n",
    "        A = expit(Z)\n",
    "        \n",
    "        outputs.append(Z)\n",
    "        result.append(A)\n",
    "\n",
    "        return result, outputs\n",
    "\n",
    "    \n",
    "    \n",
    "    def _random_weights(self, phi, dim1, dim2):\n",
    "        if phi != 'glorot_final':\n",
    "            bound = np.sqrt(6 / (dim1 + dim2 + 1))\n",
    "            w_mat = np.random.uniform(-bound, bound, (dim1, dim2+1))\n",
    "        else:\n",
    "            bound = np.sqrt(0.5 / (dim1 + dim2 + 1))\n",
    "            w_mat = np.random.uniform(-bound, bound, (dim1, dim2+1))\n",
    "        return w_mat\n",
    "    \n",
    "    \n",
    "    \n",
    "    def _initialize_weights(self):\n",
    "        network = []        \n",
    "        if self.n_layers == 1:\n",
    "            network.append(self._random_weights(self.phi, self.classes, \n",
    "                                                self.features))            \n",
    "        else:\n",
    "            network.append(self._random_weights(self.phi, self.size_hidden,\n",
    "                                                self.features))            \n",
    "            for i in range(1, self.n_layers-1):\n",
    "                network.append(self._random_weights(self.phi, self.size_hidden,\n",
    "                                                   self.size_hidden))                \n",
    "            network.append(self._random_weights('glorot_final', self.classes,\n",
    "                                                self.size_hidden))\n",
    "            \n",
    "        self.network_ = network\n",
    "        self.grads_ = network.copy()\n",
    "    \n",
    "\n",
    "    \n",
    "    def _cost(self, result_final, y):\n",
    "        if self.cost == 'mse':\n",
    "            return np.mean((y-result_final)**2)\n",
    "        elif self.cost == 'cross-entropy':\n",
    "            return -np.mean(y * np.log(result_final) + (1-y) * np.log(1 - result_final))\n",
    "        else:\n",
    "            raise ValueError('Check which cost function you are using.')\n",
    "    \n",
    "    \n",
    "    \n",
    "    def fit(self, X, y, test_sets=None, show_cost=False, print_progress=True, track_gradient=False):\n",
    "        Xcopy = X.copy()\n",
    "        Ycopy = self._encode_labels(y.copy())\n",
    "\n",
    "        self.features = X.shape[1]\n",
    "        self.classes = Ycopy.shape[0]       \n",
    "        self._initialize_weights()\n",
    "\n",
    "        if show_cost is True:\n",
    "            cost_log = []\n",
    "            \n",
    "        if track_gradient is True:\n",
    "            grad_log = []\n",
    "            for i in range(self.n_layers):\n",
    "                grad_log.append([])\n",
    "        \n",
    "        for i in range(self.epochs):\n",
    "            result, outputs = self._feedforward(Xcopy)\n",
    "            self._get_gradient(result, outputs, Ycopy)\n",
    "            \n",
    "            if track_gradient is True:\n",
    "                for i in range(self.n_layers):\n",
    "                    grad_log[i].append(abs(np.mean(self.grads_[i])))\n",
    "\n",
    "            if show_cost is True:\n",
    "                if test_sets is None:\n",
    "                    cost_log.append(self._cost(result[-1], Ycopy))\n",
    "                else:\n",
    "                    cost_result, _ = self._feedforward(test_sets[0])\n",
    "                    cost_log.append(self._cost(cost_result[-1], test_sets[1]))\n",
    "                \n",
    "            if print_progress is True:\n",
    "                sys.stderr.write('\\rEpoch: {}/{}'.format(i+1, self.epochs))\n",
    "                sys.stderr.flush()\n",
    "                \n",
    "            for j in range(self.n_layers): \n",
    "                self.network_[j] -= self.alpha * self.grads_[j]\n",
    "                \n",
    "        if show_cost is True:\n",
    "            if test_sets == None:\n",
    "                which_score = 'Training'\n",
    "            else:\n",
    "                which_score = 'Validation'\n",
    "            plt.plot(np.arange(len(cost_log)), np.array(cost_log))\n",
    "            plt.title('{} {} Cost by Epoch on {} network'.format(which_score, self.cost.upper(), self.phi.upper()))\n",
    "            plt.xlim(0,self.epochs)\n",
    "            plt.ylim(0)\n",
    "            plt.xlabel('Epochs')\n",
    "            plt.ylabel('{} cost'.format(which_score))\n",
    "            plt.legend(loc='best')\n",
    "            plt.show()\n",
    "            \n",
    "        if track_gradient is True:\n",
    "            return grad_log\n",
    "        \n",
    "            \n",
    "    \n",
    "    def predict(self, X):\n",
    "        result, _ = self._feedforward(X)\n",
    "        yhat = np.argmax(result[-1], axis=0)\n",
    "        return yhat\n",
    "    \n",
    "    \n",
    "    \n",
    "    # these are just here to make the estimator compliant with sklearn's API\n",
    "    def get_params(self, deep=True):\n",
    "        return {\n",
    "            'alpha': self.alpha, 'C': self.C, 'phi': self.phi,\n",
    "            'cost': self.cost, 'n_hidden': self.n_hidden,\n",
    "            'size_hidden': self.size_hidden, 'epochs': self.epochs\n",
    "        }\n",
    "    \n",
    "    def set_params(self, **parameters):\n",
    "        for parameter, value in parameters.items():\n",
    "            setattr(self, parameter, value)\n",
    "        return self"
   ]
  },
  {
   "cell_type": "code",
   "execution_count": 61,
   "metadata": {},
   "outputs": [],
   "source": [
    "from sklearn.metrics import accuracy_score, f1_score"
   ]
  },
  {
   "cell_type": "code",
   "execution_count": 76,
   "metadata": {},
   "outputs": [
    {
     "name": "stderr",
     "output_type": "stream",
     "text": [
      "Epoch: 200/200"
     ]
    },
    {
     "data": {
      "image/png": "[encoded data removed]",
      "text/plain": [
       "<matplotlib.figure.Figure at 0x1a415f9b160>"
      ]
     },
     "metadata": {},
     "output_type": "display_data"
    },
    {
     "name": "stderr",
     "output_type": "stream",
     "text": [
      "Epoch: 39/200"
     ]
    },
    {
     "name": "stdout",
     "output_type": "stream",
     "text": [
      "Test acc: 0.431632653061\n"
     ]
    },
    {
     "name": "stderr",
     "output_type": "stream",
     "text": [
      "Epoch: 200/200"
     ]
    },
    {
     "data": {
      "image/png": "[encoded data removed]",
      "text/plain": [
       "<matplotlib.figure.Figure at 0x1a419b24588>"
      ]
     },
     "metadata": {},
     "output_type": "display_data"
    },
    {
     "name": "stderr",
     "output_type": "stream",
     "text": [
      "Epoch: 31/200"
     ]
    },
    {
     "name": "stdout",
     "output_type": "stream",
     "text": [
      "Test acc: 0.511224489796\n"
     ]
    },
    {
     "name": "stderr",
     "output_type": "stream",
     "text": [
      "Epoch: 200/200"
     ]
    },
    {
     "data": {
      "image/png": "[encoded data removed]",
      "text/plain": [
       "<matplotlib.figure.Figure at 0x1a41ac53d68>"
      ]
     },
     "metadata": {},
     "output_type": "display_data"
    },
    {
     "name": "stderr",
     "output_type": "stream",
     "text": [
      "Epoch: 50/200"
     ]
    },
    {
     "name": "stdout",
     "output_type": "stream",
     "text": [
      "Test acc: 0.334693877551\n"
     ]
    },
    {
     "name": "stderr",
     "output_type": "stream",
     "text": [
      "Epoch: 200/200"
     ]
    },
    {
     "data": {
      "image/png": "[encoded data removed]",
      "text/plain": [
       "<matplotlib.figure.Figure at 0x1a41ad175c0>"
      ]
     },
     "metadata": {},
     "output_type": "display_data"
    },
    {
     "name": "stdout",
     "output_type": "stream",
     "text": [
      "Test acc: 0.581632653061\n"
     ]
    }
   ],
   "source": [
    "for cost in ['cross-entropy', 'mse']:\n",
    "    for act in ['sigmoid', 'linear']:\n",
    "        nn = MultiLayerPerceptron(n_hidden=2, size_hidden=30, epochs=200, phi=act, alpha=0.001, cost=cost)\n",
    "\n",
    "        nn.fit(X_train, y_train,print_progress=True, show_cost=True)\n",
    "        yhat=nn.predict(X_test)\n",
    "        print('Test acc:',accuracy_score(y_test,yhat))"
   ]
  },
  {
   "cell_type": "markdown",
   "metadata": {},
   "source": [
    "## Hyperparameter Tuning"
   ]
  },
  {
   "cell_type": "code",
   "execution_count": 82,
   "metadata": {},
   "outputs": [],
   "source": [
    "from sklearn.metrics import make_scorer\n",
    "from sklearn.model_selection import GridSearchCV\n",
    "\n",
    "f1_scorer = make_scorer(f1_score, average='macro')\n",
    "\n",
    "param_grid = {\n",
    "    'phi': ['sigmoid', 'linear'],\n",
    "    'cost': ['mse', 'cross-entropy'],\n",
    "    'n_hidden': [1,2,3],\n",
    "    'alpha': [0.001],\n",
    "    'epochs': [50],\n",
    "    'C': [0.01],\n",
    "    'size_hidden': [20]\n",
    "}\n",
    "\n",
    "gs = GridSearchCV(estimator=MultiLayerPerceptron(),\n",
    "                  param_grid=param_grid,\n",
    "                  cv=3, #default is to use SKF, so no need to supply our own\n",
    "                  scoring=f1_scorer,\n",
    "                  verbose=2\n",
    "                 )\n"
   ]
  },
  {
   "cell_type": "code",
   "execution_count": 83,
   "metadata": {},
   "outputs": [
    {
     "name": "stderr",
     "output_type": "stream",
     "text": [
      "Epoch: 50/50[Parallel(n_jobs=1)]: Done   1 out of   1 | elapsed:    0.1s remaining:    0.0s\n",
      "Epoch: 16/50"
     ]
    },
    {
     "name": "stdout",
     "output_type": "stream",
     "text": [
      "Fitting 3 folds for each of 12 candidates, totalling 36 fits\n",
      "[CV] C=0.01, alpha=0.001, cost=mse, epochs=50, n_hidden=1, phi=sigmoid, size_hidden=20 \n",
      "[CV]  C=0.01, alpha=0.001, cost=mse, epochs=50, n_hidden=1, phi=sigmoid, size_hidden=20, total=   0.0s\n",
      "[CV] C=0.01, alpha=0.001, cost=mse, epochs=50, n_hidden=1, phi=sigmoid, size_hidden=20 \n"
     ]
    },
    {
     "name": "stderr",
     "output_type": "stream",
     "text": [
      "Epoch: 24/50"
     ]
    },
    {
     "name": "stdout",
     "output_type": "stream",
     "text": [
      "[CV]  C=0.01, alpha=0.001, cost=mse, epochs=50, n_hidden=1, phi=sigmoid, size_hidden=20, total=   0.0s\n",
      "[CV] C=0.01, alpha=0.001, cost=mse, epochs=50, n_hidden=1, phi=sigmoid, size_hidden=20 \n",
      "[CV]  C=0.01, alpha=0.001, cost=mse, epochs=50, n_hidden=1, phi=sigmoid, size_hidden=20, total=   0.0s\n",
      "[CV] C=0.01, alpha=0.001, cost=mse, epochs=50, n_hidden=1, phi=linear, size_hidden=20 \n"
     ]
    },
    {
     "name": "stderr",
     "output_type": "stream",
     "text": [
      "Epoch: 24/50"
     ]
    },
    {
     "name": "stdout",
     "output_type": "stream",
     "text": [
      "[CV]  C=0.01, alpha=0.001, cost=mse, epochs=50, n_hidden=1, phi=linear, size_hidden=20, total=   0.0s\n",
      "[CV] C=0.01, alpha=0.001, cost=mse, epochs=50, n_hidden=1, phi=linear, size_hidden=20 \n",
      "[CV]  C=0.01, alpha=0.001, cost=mse, epochs=50, n_hidden=1, phi=linear, size_hidden=20, total=   0.0s\n",
      "[CV] C=0.01, alpha=0.001, cost=mse, epochs=50, n_hidden=1, phi=linear, size_hidden=20 \n"
     ]
    },
    {
     "name": "stderr",
     "output_type": "stream",
     "text": [
      "Epoch: 11/50"
     ]
    },
    {
     "name": "stdout",
     "output_type": "stream",
     "text": [
      "[CV]  C=0.01, alpha=0.001, cost=mse, epochs=50, n_hidden=1, phi=linear, size_hidden=20, total=   0.0s\n",
      "[CV] C=0.01, alpha=0.001, cost=mse, epochs=50, n_hidden=2, phi=sigmoid, size_hidden=20 \n",
      "[CV]  C=0.01, alpha=0.001, cost=mse, epochs=50, n_hidden=2, phi=sigmoid, size_hidden=20, total=   0.1s\n",
      "[CV] C=0.01, alpha=0.001, cost=mse, epochs=50, n_hidden=2, phi=sigmoid, size_hidden=20 \n"
     ]
    },
    {
     "name": "stderr",
     "output_type": "stream",
     "text": [
      "Epoch: 4/500"
     ]
    },
    {
     "name": "stdout",
     "output_type": "stream",
     "text": [
      "[CV]  C=0.01, alpha=0.001, cost=mse, epochs=50, n_hidden=2, phi=sigmoid, size_hidden=20, total=   0.0s\n",
      "[CV] C=0.01, alpha=0.001, cost=mse, epochs=50, n_hidden=2, phi=sigmoid, size_hidden=20 \n",
      "[CV]  C=0.01, alpha=0.001, cost=mse, epochs=50, n_hidden=2, phi=sigmoid, size_hidden=20, total=   0.1s\n",
      "[CV] C=0.01, alpha=0.001, cost=mse, epochs=50, n_hidden=2, phi=linear, size_hidden=20 \n"
     ]
    },
    {
     "name": "stderr",
     "output_type": "stream",
     "text": [
      "Epoch: 33/50"
     ]
    },
    {
     "name": "stdout",
     "output_type": "stream",
     "text": [
      "[CV]  C=0.01, alpha=0.001, cost=mse, epochs=50, n_hidden=2, phi=linear, size_hidden=20, total=   0.1s\n",
      "[CV] C=0.01, alpha=0.001, cost=mse, epochs=50, n_hidden=2, phi=linear, size_hidden=20 \n",
      "[CV]  C=0.01, alpha=0.001, cost=mse, epochs=50, n_hidden=2, phi=linear, size_hidden=20, total=   0.0s\n",
      "[CV] C=0.01, alpha=0.001, cost=mse, epochs=50, n_hidden=2, phi=linear, size_hidden=20 \n"
     ]
    },
    {
     "name": "stderr",
     "output_type": "stream",
     "text": [
      "Epoch: 17/50"
     ]
    },
    {
     "name": "stdout",
     "output_type": "stream",
     "text": [
      "[CV]  C=0.01, alpha=0.001, cost=mse, epochs=50, n_hidden=2, phi=linear, size_hidden=20, total=   0.0s\n",
      "[CV] C=0.01, alpha=0.001, cost=mse, epochs=50, n_hidden=3, phi=sigmoid, size_hidden=20 \n",
      "[CV]  C=0.01, alpha=0.001, cost=mse, epochs=50, n_hidden=3, phi=sigmoid, size_hidden=20, total=   0.0s\n",
      "[CV] C=0.01, alpha=0.001, cost=mse, epochs=50, n_hidden=3, phi=sigmoid, size_hidden=20 \n"
     ]
    },
    {
     "name": "stderr",
     "output_type": "stream",
     "text": [
      "Epoch: 24/50"
     ]
    },
    {
     "name": "stdout",
     "output_type": "stream",
     "text": [
      "[CV]  C=0.01, alpha=0.001, cost=mse, epochs=50, n_hidden=3, phi=sigmoid, size_hidden=20, total=   0.1s\n",
      "[CV] C=0.01, alpha=0.001, cost=mse, epochs=50, n_hidden=3, phi=sigmoid, size_hidden=20 \n",
      "[CV]  C=0.01, alpha=0.001, cost=mse, epochs=50, n_hidden=3, phi=sigmoid, size_hidden=20, total=   0.0s\n",
      "[CV] C=0.01, alpha=0.001, cost=mse, epochs=50, n_hidden=3, phi=linear, size_hidden=20 \n"
     ]
    },
    {
     "name": "stderr",
     "output_type": "stream",
     "text": [
      "Epoch: 35/50"
     ]
    },
    {
     "name": "stdout",
     "output_type": "stream",
     "text": [
      "[CV]  C=0.01, alpha=0.001, cost=mse, epochs=50, n_hidden=3, phi=linear, size_hidden=20, total=   0.0s\n",
      "[CV] C=0.01, alpha=0.001, cost=mse, epochs=50, n_hidden=3, phi=linear, size_hidden=20 \n",
      "[CV]  C=0.01, alpha=0.001, cost=mse, epochs=50, n_hidden=3, phi=linear, size_hidden=20, total=   0.0s\n",
      "[CV] C=0.01, alpha=0.001, cost=mse, epochs=50, n_hidden=3, phi=linear, size_hidden=20 \n"
     ]
    },
    {
     "name": "stderr",
     "output_type": "stream",
     "text": [
      "Epoch: 11/50"
     ]
    },
    {
     "name": "stdout",
     "output_type": "stream",
     "text": [
      "[CV]  C=0.01, alpha=0.001, cost=mse, epochs=50, n_hidden=3, phi=linear, size_hidden=20, total=   0.0s\n",
      "[CV] C=0.01, alpha=0.001, cost=cross-entropy, epochs=50, n_hidden=1, phi=sigmoid, size_hidden=20 \n",
      "[CV]  C=0.01, alpha=0.001, cost=cross-entropy, epochs=50, n_hidden=1, phi=sigmoid, size_hidden=20, total=   0.1s\n",
      "[CV] C=0.01, alpha=0.001, cost=cross-entropy, epochs=50, n_hidden=1, phi=sigmoid, size_hidden=20 \n"
     ]
    },
    {
     "name": "stderr",
     "output_type": "stream",
     "text": [
      "Epoch: 25/50"
     ]
    },
    {
     "name": "stdout",
     "output_type": "stream",
     "text": [
      "[CV]  C=0.01, alpha=0.001, cost=cross-entropy, epochs=50, n_hidden=1, phi=sigmoid, size_hidden=20, total=   0.0s\n",
      "[CV] C=0.01, alpha=0.001, cost=cross-entropy, epochs=50, n_hidden=1, phi=sigmoid, size_hidden=20 \n",
      "[CV]  C=0.01, alpha=0.001, cost=cross-entropy, epochs=50, n_hidden=1, phi=sigmoid, size_hidden=20, total=   0.0s\n",
      "[CV] C=0.01, alpha=0.001, cost=cross-entropy, epochs=50, n_hidden=1, phi=linear, size_hidden=20 \n"
     ]
    },
    {
     "name": "stderr",
     "output_type": "stream",
     "text": [
      "Epoch: 40/50"
     ]
    },
    {
     "name": "stdout",
     "output_type": "stream",
     "text": [
      "[CV]  C=0.01, alpha=0.001, cost=cross-entropy, epochs=50, n_hidden=1, phi=linear, size_hidden=20, total=   0.0s\n",
      "[CV] C=0.01, alpha=0.001, cost=cross-entropy, epochs=50, n_hidden=1, phi=linear, size_hidden=20 \n",
      "[CV]  C=0.01, alpha=0.001, cost=cross-entropy, epochs=50, n_hidden=1, phi=linear, size_hidden=20, total=   0.0s\n",
      "[CV] C=0.01, alpha=0.001, cost=cross-entropy, epochs=50, n_hidden=1, phi=linear, size_hidden=20 \n"
     ]
    },
    {
     "name": "stderr",
     "output_type": "stream",
     "text": [
      "Epoch: 21/50"
     ]
    },
    {
     "name": "stdout",
     "output_type": "stream",
     "text": [
      "[CV]  C=0.01, alpha=0.001, cost=cross-entropy, epochs=50, n_hidden=1, phi=linear, size_hidden=20, total=   0.0s\n",
      "[CV] C=0.01, alpha=0.001, cost=cross-entropy, epochs=50, n_hidden=2, phi=sigmoid, size_hidden=20 \n",
      "[CV]  C=0.01, alpha=0.001, cost=cross-entropy, epochs=50, n_hidden=2, phi=sigmoid, size_hidden=20, total=   0.0s\n",
      "[CV] C=0.01, alpha=0.001, cost=cross-entropy, epochs=50, n_hidden=2, phi=sigmoid, size_hidden=20 \n"
     ]
    },
    {
     "name": "stderr",
     "output_type": "stream",
     "text": [
      "Epoch: 15/50"
     ]
    },
    {
     "name": "stdout",
     "output_type": "stream",
     "text": [
      "[CV]  C=0.01, alpha=0.001, cost=cross-entropy, epochs=50, n_hidden=2, phi=sigmoid, size_hidden=20, total=   0.1s\n",
      "[CV] C=0.01, alpha=0.001, cost=cross-entropy, epochs=50, n_hidden=2, phi=sigmoid, size_hidden=20 \n",
      "[CV]  C=0.01, alpha=0.001, cost=cross-entropy, epochs=50, n_hidden=2, phi=sigmoid, size_hidden=20, total=   0.1s\n",
      "[CV] C=0.01, alpha=0.001, cost=cross-entropy, epochs=50, n_hidden=2, phi=linear, size_hidden=20 \n"
     ]
    },
    {
     "name": "stderr",
     "output_type": "stream",
     "text": [
      "Epoch: 12/50"
     ]
    },
    {
     "name": "stdout",
     "output_type": "stream",
     "text": [
      "[CV]  C=0.01, alpha=0.001, cost=cross-entropy, epochs=50, n_hidden=2, phi=linear, size_hidden=20, total=   0.0s\n",
      "[CV] C=0.01, alpha=0.001, cost=cross-entropy, epochs=50, n_hidden=2, phi=linear, size_hidden=20 \n",
      "[CV]  C=0.01, alpha=0.001, cost=cross-entropy, epochs=50, n_hidden=2, phi=linear, size_hidden=20, total=   0.1s\n",
      "[CV] C=0.01, alpha=0.001, cost=cross-entropy, epochs=50, n_hidden=2, phi=linear, size_hidden=20 \n"
     ]
    },
    {
     "name": "stderr",
     "output_type": "stream",
     "text": [
      "Epoch: 6/500"
     ]
    },
    {
     "name": "stdout",
     "output_type": "stream",
     "text": [
      "[CV]  C=0.01, alpha=0.001, cost=cross-entropy, epochs=50, n_hidden=2, phi=linear, size_hidden=20, total=   0.1s\n",
      "[CV] C=0.01, alpha=0.001, cost=cross-entropy, epochs=50, n_hidden=3, phi=sigmoid, size_hidden=20 \n",
      "[CV]  C=0.01, alpha=0.001, cost=cross-entropy, epochs=50, n_hidden=3, phi=sigmoid, size_hidden=20, total=   0.1s\n",
      "[CV] C=0.01, alpha=0.001, cost=cross-entropy, epochs=50, n_hidden=3, phi=sigmoid, size_hidden=20 \n"
     ]
    },
    {
     "name": "stderr",
     "output_type": "stream",
     "text": [
      "Epoch: 9/500"
     ]
    },
    {
     "name": "stdout",
     "output_type": "stream",
     "text": [
      "[CV]  C=0.01, alpha=0.001, cost=cross-entropy, epochs=50, n_hidden=3, phi=sigmoid, size_hidden=20, total=   0.1s\n",
      "[CV] C=0.01, alpha=0.001, cost=cross-entropy, epochs=50, n_hidden=3, phi=sigmoid, size_hidden=20 \n",
      "[CV]  C=0.01, alpha=0.001, cost=cross-entropy, epochs=50, n_hidden=3, phi=sigmoid, size_hidden=20, total=   0.1s\n",
      "[CV] C=0.01, alpha=0.001, cost=cross-entropy, epochs=50, n_hidden=3, phi=linear, size_hidden=20 \n"
     ]
    },
    {
     "name": "stderr",
     "output_type": "stream",
     "text": [
      "Epoch: 20/50"
     ]
    },
    {
     "name": "stdout",
     "output_type": "stream",
     "text": [
      "[CV]  C=0.01, alpha=0.001, cost=cross-entropy, epochs=50, n_hidden=3, phi=linear, size_hidden=20, total=   0.0s\n",
      "[CV] C=0.01, alpha=0.001, cost=cross-entropy, epochs=50, n_hidden=3, phi=linear, size_hidden=20 \n",
      "[CV]  C=0.01, alpha=0.001, cost=cross-entropy, epochs=50, n_hidden=3, phi=linear, size_hidden=20, total=   0.0s\n",
      "[CV] C=0.01, alpha=0.001, cost=cross-entropy, epochs=50, n_hidden=3, phi=linear, size_hidden=20 \n"
     ]
    },
    {
     "name": "stderr",
     "output_type": "stream",
     "text": [
      "Epoch: 50/50[Parallel(n_jobs=1)]: Done  36 out of  36 | elapsed:    5.2s finished\n",
      "Epoch: 50/50"
     ]
    },
    {
     "name": "stdout",
     "output_type": "stream",
     "text": [
      "[CV]  C=0.01, alpha=0.001, cost=cross-entropy, epochs=50, n_hidden=3, phi=linear, size_hidden=20, total=   0.0s\n"
     ]
    },
    {
     "data": {
      "text/plain": [
       "GridSearchCV(cv=3, error_score='raise',\n",
       "       estimator=<__main__.MultiLayerPerceptron object at 0x000001A41AD50240>,\n",
       "       fit_params=None, iid=True, n_jobs=1,\n",
       "       param_grid={'phi': ['sigmoid', 'linear'], 'cost': ['mse', 'cross-entropy'], 'n_hidden': [1, 2, 3], 'alpha': [0.001], 'epochs': [50], 'C': [0.01], 'size_hidden': [20]},\n",
       "       pre_dispatch='2*n_jobs', refit=True, return_train_score='warn',\n",
       "       scoring=make_scorer(f1_score, average=macro), verbose=2)"
      ]
     },
     "execution_count": 83,
     "metadata": {},
     "output_type": "execute_result"
    }
   ],
   "source": [
    "gs.fit(X_train, y_train)"
   ]
  },
  {
   "cell_type": "code",
   "execution_count": null,
   "metadata": {},
   "outputs": [],
   "source": []
  },
  {
   "cell_type": "code",
   "execution_count": null,
   "metadata": {},
   "outputs": [],
   "source": []
  },
  {
   "cell_type": "code",
   "execution_count": 90,
   "metadata": {},
   "outputs": [
    {
     "name": "stderr",
     "output_type": "stream",
     "text": [
      "Epoch: 50/50[Parallel(n_jobs=1)]: Done   1 out of   1 | elapsed:    0.0s remaining:    0.0s\n",
      "Epoch: 28/50"
     ]
    },
    {
     "name": "stdout",
     "output_type": "stream",
     "text": [
      "Fitting 3 folds for each of 12 candidates, totalling 36 fits\n",
      "[CV] C=0.001, alpha=1e-06, cost=mse, epochs=50, n_hidden=1, phi=sigmoid, size_hidden=15 \n",
      "[CV]  C=0.001, alpha=1e-06, cost=mse, epochs=50, n_hidden=1, phi=sigmoid, size_hidden=15, score=0.22287237397391868, total=   0.0s\n",
      "[CV] C=0.001, alpha=1e-06, cost=mse, epochs=50, n_hidden=1, phi=sigmoid, size_hidden=15 \n"
     ]
    },
    {
     "name": "stderr",
     "output_type": "stream",
     "text": [
      "Epoch: 50/50[Parallel(n_jobs=1)]: Done   2 out of   2 | elapsed:    0.2s remaining:    0.0s\n",
      "Epoch: 50/50[Parallel(n_jobs=1)]: Done   3 out of   3 | elapsed:    0.3s remaining:    0.0s\n",
      "Epoch: 29/50"
     ]
    },
    {
     "name": "stdout",
     "output_type": "stream",
     "text": [
      "[CV]  C=0.001, alpha=1e-06, cost=mse, epochs=50, n_hidden=1, phi=sigmoid, size_hidden=15, score=0.16265657018008114, total=   0.1s\n",
      "[CV] C=0.001, alpha=1e-06, cost=mse, epochs=50, n_hidden=1, phi=sigmoid, size_hidden=15 \n",
      "[CV]  C=0.001, alpha=1e-06, cost=mse, epochs=50, n_hidden=1, phi=sigmoid, size_hidden=15, score=0.14396735769770663, total=   0.0s\n",
      "[CV] C=0.001, alpha=1e-06, cost=mse, epochs=50, n_hidden=1, phi=linear, size_hidden=15 \n"
     ]
    },
    {
     "name": "stderr",
     "output_type": "stream",
     "text": [
      "Epoch: 50/50[Parallel(n_jobs=1)]: Done   4 out of   4 | elapsed:    0.4s remaining:    0.0s\n",
      "Epoch: 37/50"
     ]
    },
    {
     "name": "stdout",
     "output_type": "stream",
     "text": [
      "[CV]  C=0.001, alpha=1e-06, cost=mse, epochs=50, n_hidden=1, phi=linear, size_hidden=15, score=0.2683412957643209, total=   0.0s\n",
      "[CV] C=0.001, alpha=1e-06, cost=mse, epochs=50, n_hidden=1, phi=linear, size_hidden=15 \n",
      "[CV]  C=0.001, alpha=1e-06, cost=mse, epochs=50, n_hidden=1, phi=linear, size_hidden=15, score=0.2897083694622287, total=   0.0s\n",
      "[CV] C=0.001, alpha=1e-06, cost=mse, epochs=50, n_hidden=1, phi=linear, size_hidden=15 \n"
     ]
    },
    {
     "name": "stderr",
     "output_type": "stream",
     "text": [
      "Epoch: 25/50"
     ]
    },
    {
     "name": "stdout",
     "output_type": "stream",
     "text": [
      "[CV]  C=0.001, alpha=1e-06, cost=mse, epochs=50, n_hidden=1, phi=linear, size_hidden=15, score=0.44091894829894424, total=   0.0s\n",
      "[CV] C=0.001, alpha=1e-06, cost=mse, epochs=50, n_hidden=2, phi=sigmoid, size_hidden=15 \n",
      "[CV]  C=0.001, alpha=1e-06, cost=mse, epochs=50, n_hidden=2, phi=sigmoid, size_hidden=15, score=0.28721948947812675, total=   0.0s\n",
      "[CV] C=0.001, alpha=1e-06, cost=mse, epochs=50, n_hidden=2, phi=sigmoid, size_hidden=15 \n"
     ]
    },
    {
     "name": "stderr",
     "output_type": "stream",
     "text": [
      "Epoch: 23/50"
     ]
    },
    {
     "name": "stdout",
     "output_type": "stream",
     "text": [
      "[CV]  C=0.001, alpha=1e-06, cost=mse, epochs=50, n_hidden=2, phi=sigmoid, size_hidden=15, score=0.24822593568713883, total=   0.0s\n",
      "[CV] C=0.001, alpha=1e-06, cost=mse, epochs=50, n_hidden=2, phi=sigmoid, size_hidden=15 \n",
      "[CV]  C=0.001, alpha=1e-06, cost=mse, epochs=50, n_hidden=2, phi=sigmoid, size_hidden=15, score=0.3308635254689262, total=   0.0s\n",
      "[CV] C=0.001, alpha=1e-06, cost=mse, epochs=50, n_hidden=2, phi=linear, size_hidden=15 \n"
     ]
    },
    {
     "name": "stderr",
     "output_type": "stream",
     "text": [
      "Epoch: 26/50"
     ]
    },
    {
     "name": "stdout",
     "output_type": "stream",
     "text": [
      "[CV]  C=0.001, alpha=1e-06, cost=mse, epochs=50, n_hidden=2, phi=linear, size_hidden=15, score=0.31024012147910823, total=   0.0s\n",
      "[CV] C=0.001, alpha=1e-06, cost=mse, epochs=50, n_hidden=2, phi=linear, size_hidden=15 \n",
      "[CV]  C=0.001, alpha=1e-06, cost=mse, epochs=50, n_hidden=2, phi=linear, size_hidden=15, score=0.26870597704152815, total=   0.0s\n",
      "[CV] C=0.001, alpha=1e-06, cost=mse, epochs=50, n_hidden=2, phi=linear, size_hidden=15 \n"
     ]
    },
    {
     "name": "stderr",
     "output_type": "stream",
     "text": [
      "Epoch: 25/50"
     ]
    },
    {
     "name": "stdout",
     "output_type": "stream",
     "text": [
      "[CV]  C=0.001, alpha=1e-06, cost=mse, epochs=50, n_hidden=2, phi=linear, size_hidden=15, score=0.3234918658245805, total=   0.0s\n",
      "[CV] C=0.001, alpha=1e-06, cost=mse, epochs=50, n_hidden=3, phi=sigmoid, size_hidden=15 \n",
      "[CV]  C=0.001, alpha=1e-06, cost=mse, epochs=50, n_hidden=3, phi=sigmoid, size_hidden=15, score=0.203185481312266, total=   0.0s\n",
      "[CV] C=0.001, alpha=1e-06, cost=mse, epochs=50, n_hidden=3, phi=sigmoid, size_hidden=15 \n"
     ]
    },
    {
     "name": "stderr",
     "output_type": "stream",
     "text": [
      "Epoch: 31/50"
     ]
    },
    {
     "name": "stdout",
     "output_type": "stream",
     "text": [
      "[CV]  C=0.001, alpha=1e-06, cost=mse, epochs=50, n_hidden=3, phi=sigmoid, size_hidden=15, score=0.12181894034209428, total=   0.0s\n",
      "[CV] C=0.001, alpha=1e-06, cost=mse, epochs=50, n_hidden=3, phi=sigmoid, size_hidden=15 \n",
      "[CV]  C=0.001, alpha=1e-06, cost=mse, epochs=50, n_hidden=3, phi=sigmoid, size_hidden=15, score=0.3099664364206121, total=   0.0s\n",
      "[CV] C=0.001, alpha=1e-06, cost=mse, epochs=50, n_hidden=3, phi=linear, size_hidden=15 \n"
     ]
    },
    {
     "name": "stderr",
     "output_type": "stream",
     "text": [
      "Epoch: 43/50"
     ]
    },
    {
     "name": "stdout",
     "output_type": "stream",
     "text": [
      "[CV]  C=0.001, alpha=1e-06, cost=mse, epochs=50, n_hidden=3, phi=linear, size_hidden=15, score=0.303578279419258, total=   0.0s\n",
      "[CV] C=0.001, alpha=1e-06, cost=mse, epochs=50, n_hidden=3, phi=linear, size_hidden=15 \n",
      "[CV]  C=0.001, alpha=1e-06, cost=mse, epochs=50, n_hidden=3, phi=linear, size_hidden=15, score=0.338332053961329, total=   0.0s\n",
      "[CV] C=0.001, alpha=1e-06, cost=mse, epochs=50, n_hidden=3, phi=linear, size_hidden=15 \n"
     ]
    },
    {
     "name": "stderr",
     "output_type": "stream",
     "text": [
      "Epoch: 22/50"
     ]
    },
    {
     "name": "stdout",
     "output_type": "stream",
     "text": [
      "[CV]  C=0.001, alpha=1e-06, cost=mse, epochs=50, n_hidden=3, phi=linear, size_hidden=15, score=0.4352634749945467, total=   0.0s\n",
      "[CV] C=0.001, alpha=1e-06, cost=cross-entropy, epochs=50, n_hidden=1, phi=sigmoid, size_hidden=15 \n",
      "[CV]  C=0.001, alpha=1e-06, cost=cross-entropy, epochs=50, n_hidden=1, phi=sigmoid, size_hidden=15, score=0.20280589593322676, total=   0.0s\n",
      "[CV] C=0.001, alpha=1e-06, cost=cross-entropy, epochs=50, n_hidden=1, phi=sigmoid, size_hidden=15 \n"
     ]
    },
    {
     "name": "stderr",
     "output_type": "stream",
     "text": [
      "Epoch: 13/50"
     ]
    },
    {
     "name": "stdout",
     "output_type": "stream",
     "text": [
      "[CV]  C=0.001, alpha=1e-06, cost=cross-entropy, epochs=50, n_hidden=1, phi=sigmoid, size_hidden=15, score=0.21197407252204462, total=   0.1s\n",
      "[CV] C=0.001, alpha=1e-06, cost=cross-entropy, epochs=50, n_hidden=1, phi=sigmoid, size_hidden=15 \n",
      "[CV]  C=0.001, alpha=1e-06, cost=cross-entropy, epochs=50, n_hidden=1, phi=sigmoid, size_hidden=15, score=0.28624719922236913, total=   0.1s\n",
      "[CV] C=0.001, alpha=1e-06, cost=cross-entropy, epochs=50, n_hidden=1, phi=linear, size_hidden=15 \n"
     ]
    },
    {
     "name": "stderr",
     "output_type": "stream",
     "text": [
      "Epoch: 50/50"
     ]
    },
    {
     "name": "stdout",
     "output_type": "stream",
     "text": [
      "[CV]  C=0.001, alpha=1e-06, cost=cross-entropy, epochs=50, n_hidden=1, phi=linear, size_hidden=15, score=0.3187387176400959, total=   0.0s\n",
      "[CV] C=0.001, alpha=1e-06, cost=cross-entropy, epochs=50, n_hidden=1, phi=linear, size_hidden=15 \n",
      "[CV]  C=0.001, alpha=1e-06, cost=cross-entropy, epochs=50, n_hidden=1, phi=linear, size_hidden=15, score=0.3270884152185618, total=   0.0s\n",
      "[CV] C=0.001, alpha=1e-06, cost=cross-entropy, epochs=50, n_hidden=1, phi=linear, size_hidden=15 \n"
     ]
    },
    {
     "name": "stderr",
     "output_type": "stream",
     "text": [
      "Epoch: 26/50"
     ]
    },
    {
     "name": "stdout",
     "output_type": "stream",
     "text": [
      "[CV]  C=0.001, alpha=1e-06, cost=cross-entropy, epochs=50, n_hidden=1, phi=linear, size_hidden=15, score=0.3902563017289233, total=   0.0s\n",
      "[CV] C=0.001, alpha=1e-06, cost=cross-entropy, epochs=50, n_hidden=2, phi=sigmoid, size_hidden=15 \n",
      "[CV]  C=0.001, alpha=1e-06, cost=cross-entropy, epochs=50, n_hidden=2, phi=sigmoid, size_hidden=15, score=0.20280589593322676, total=   0.0s\n",
      "[CV] C=0.001, alpha=1e-06, cost=cross-entropy, epochs=50, n_hidden=2, phi=sigmoid, size_hidden=15 \n"
     ]
    },
    {
     "name": "stderr",
     "output_type": "stream",
     "text": [
      "Epoch: 34/50"
     ]
    },
    {
     "name": "stdout",
     "output_type": "stream",
     "text": [
      "[CV]  C=0.001, alpha=1e-06, cost=cross-entropy, epochs=50, n_hidden=2, phi=sigmoid, size_hidden=15, score=0.12558931522956948, total=   0.0s\n",
      "[CV] C=0.001, alpha=1e-06, cost=cross-entropy, epochs=50, n_hidden=2, phi=sigmoid, size_hidden=15 \n",
      "[CV]  C=0.001, alpha=1e-06, cost=cross-entropy, epochs=50, n_hidden=2, phi=sigmoid, size_hidden=15, score=0.20832722416927194, total=   0.0s\n",
      "[CV] C=0.001, alpha=1e-06, cost=cross-entropy, epochs=50, n_hidden=2, phi=linear, size_hidden=15 \n"
     ]
    },
    {
     "name": "stderr",
     "output_type": "stream",
     "text": [
      "Epoch: 36/50"
     ]
    },
    {
     "name": "stdout",
     "output_type": "stream",
     "text": [
      "[CV]  C=0.001, alpha=1e-06, cost=cross-entropy, epochs=50, n_hidden=2, phi=linear, size_hidden=15, score=0.3379758255175385, total=   0.0s\n",
      "[CV] C=0.001, alpha=1e-06, cost=cross-entropy, epochs=50, n_hidden=2, phi=linear, size_hidden=15 \n",
      "[CV]  C=0.001, alpha=1e-06, cost=cross-entropy, epochs=50, n_hidden=2, phi=linear, size_hidden=15, score=0.3142384011725114, total=   0.0s\n",
      "[CV] C=0.001, alpha=1e-06, cost=cross-entropy, epochs=50, n_hidden=2, phi=linear, size_hidden=15 \n"
     ]
    },
    {
     "name": "stderr",
     "output_type": "stream",
     "text": [
      "Epoch: 20/50"
     ]
    },
    {
     "name": "stdout",
     "output_type": "stream",
     "text": [
      "[CV]  C=0.001, alpha=1e-06, cost=cross-entropy, epochs=50, n_hidden=2, phi=linear, size_hidden=15, score=0.3729630400134285, total=   0.0s\n",
      "[CV] C=0.001, alpha=1e-06, cost=cross-entropy, epochs=50, n_hidden=3, phi=sigmoid, size_hidden=15 \n",
      "[CV]  C=0.001, alpha=1e-06, cost=cross-entropy, epochs=50, n_hidden=3, phi=sigmoid, size_hidden=15, score=0.17140690178232842, total=   0.0s\n",
      "[CV] C=0.001, alpha=1e-06, cost=cross-entropy, epochs=50, n_hidden=3, phi=sigmoid, size_hidden=15 \n"
     ]
    },
    {
     "name": "stderr",
     "output_type": "stream",
     "text": [
      "Epoch: 31/50"
     ]
    },
    {
     "name": "stdout",
     "output_type": "stream",
     "text": [
      "[CV]  C=0.001, alpha=1e-06, cost=cross-entropy, epochs=50, n_hidden=3, phi=sigmoid, size_hidden=15, score=0.19799878749520386, total=   0.0s\n",
      "[CV] C=0.001, alpha=1e-06, cost=cross-entropy, epochs=50, n_hidden=3, phi=sigmoid, size_hidden=15 \n",
      "[CV]  C=0.001, alpha=1e-06, cost=cross-entropy, epochs=50, n_hidden=3, phi=sigmoid, size_hidden=15, score=0.1707685679633613, total=   0.0s\n",
      "[CV] C=0.001, alpha=1e-06, cost=cross-entropy, epochs=50, n_hidden=3, phi=linear, size_hidden=15 \n"
     ]
    },
    {
     "name": "stderr",
     "output_type": "stream",
     "text": [
      "Epoch: 43/50"
     ]
    },
    {
     "name": "stdout",
     "output_type": "stream",
     "text": [
      "[CV]  C=0.001, alpha=1e-06, cost=cross-entropy, epochs=50, n_hidden=3, phi=linear, size_hidden=15, score=0.2649003170742301, total=   0.0s\n",
      "[CV] C=0.001, alpha=1e-06, cost=cross-entropy, epochs=50, n_hidden=3, phi=linear, size_hidden=15 \n",
      "[CV]  C=0.001, alpha=1e-06, cost=cross-entropy, epochs=50, n_hidden=3, phi=linear, size_hidden=15, score=0.33685005326377887, total=   0.0s\n",
      "[CV] C=0.001, alpha=1e-06, cost=cross-entropy, epochs=50, n_hidden=3, phi=linear, size_hidden=15 \n"
     ]
    },
    {
     "name": "stderr",
     "output_type": "stream",
     "text": [
      "Epoch: 50/50[Parallel(n_jobs=1)]: Done  36 out of  36 | elapsed:    4.5s finished\n",
      "Epoch: 50/50"
     ]
    },
    {
     "name": "stdout",
     "output_type": "stream",
     "text": [
      "[CV]  C=0.001, alpha=1e-06, cost=cross-entropy, epochs=50, n_hidden=3, phi=linear, size_hidden=15, score=0.29187378938173886, total=   0.0s\n"
     ]
    },
    {
     "data": {
      "text/plain": [
       "GridSearchCV(cv=3, error_score='raise',\n",
       "       estimator=<__main__.MultiLayerPerceptron object at 0x000001A41AC71400>,\n",
       "       fit_params=None, iid=True, n_jobs=1,\n",
       "       param_grid={'phi': ['sigmoid', 'linear'], 'cost': ['mse', 'cross-entropy'], 'n_hidden': [1, 2, 3], 'alpha': [1e-06], 'epochs': [50], 'C': [0.001], 'size_hidden': [15]},\n",
       "       pre_dispatch='2*n_jobs', refit=True, return_train_score='warn',\n",
       "       scoring=make_scorer(f1_score, average=macro), verbose=5)"
      ]
     },
     "execution_count": 90,
     "metadata": {},
     "output_type": "execute_result"
    }
   ],
   "source": [
    "# let's try adjusting some of the fixed parameters we used to ones that tend to work better\n",
    "param_grid['C'] = [0.001]\n",
    "param_grid['size_hidden'] = [15]\n",
    "param_grid['alpha'] = [1e-6]\n",
    "param_grid['epochs'] = [50]\n",
    "\n",
    "gs2 = GridSearchCV(estimator=MultiLayerPerceptron(),\n",
    "                  param_grid=param_grid,\n",
    "                  cv=3, \n",
    "                  scoring=f1_scorer,\n",
    "                  verbose=5\n",
    "                 )\n",
    "\n",
    "gs2.fit(X_train, y_train)"
   ]
  },
  {
   "cell_type": "code",
   "execution_count": 95,
   "metadata": {},
   "outputs": [
    {
     "data": {
      "image/png": "[encoded data removed]",
      "text/plain": [
       "<matplotlib.figure.Figure at 0x1a41acef0f0>"
      ]
     },
     "metadata": {},
     "output_type": "display_data"
    }
   ],
   "source": [
    "import seaborn as sns\n",
    "grid_df = pd.DataFrame(gs2.cv_results_)\n",
    "grid_df['name'] = grid_df.param_phi + grid_df.param_cost + grid_df.param_n_hidden.astype(str)\n",
    "\n",
    "grid_df.sort_index(by='mean_test_score', inplace=True, ascending=False)\n",
    "split_grid = grid_df.melt(value_vars=['split0_test_score','split1_test_score','split2_test_score'], \n",
    "                          var_name='split', value_name='score', id_vars='name')\n",
    "\n",
    "\n",
    "sns.swarmplot(data=split_grid, x='name', y='score')\n",
    "plt.xticks(rotation=90)\n",
    "plt.show()"
   ]
  },
  {
   "cell_type": "code",
   "execution_count": 99,
   "metadata": {},
   "outputs": [],
   "source": [
    "scores = pickle.load(open('cv_scores.p', 'rb'))"
   ]
  },
  {
   "cell_type": "code",
   "execution_count": 100,
   "metadata": {},
   "outputs": [
    {
     "data": {
      "image/png": "[encoded data removed]",
      "text/plain": [
       "<matplotlib.figure.Figure at 0x1a41ad90e80>"
      ]
     },
     "metadata": {},
     "output_type": "display_data"
    }
   ],
   "source": [
    "cv_df = pd.DataFrame(scores).melt(value_vars=['linearcross-entropy2',\n",
    "                                              'linearmse3',\n",
    "                                              'silucross-entropy2'],\n",
    "                                 var_name='network',\n",
    "                                 value_name='score')\n",
    "\n",
    "sns.swarmplot(data=cv_df, x='network', y='score')\n",
    "plt.show()"
   ]
  },
  {
   "cell_type": "code",
   "execution_count": null,
   "metadata": {},
   "outputs": [],
   "source": []
  }
 ],
 "metadata": {
  "kernelspec": {
   "display_name": "Python 3",
   "language": "python",
   "name": "python3"
  },
  "language_info": {
   "codemirror_mode": {
    "name": "ipython",
    "version": 3
   },
   "file_extension": ".py",
   "mimetype": "text/x-python",
   "name": "python",
   "nbconvert_exporter": "python",
   "pygments_lexer": "ipython3",
   "version": "3.6.3"
  }
 },
 "nbformat": 4,
 "nbformat_minor": 2
}
